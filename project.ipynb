{
 "cells": [
  {
   "cell_type": "code",
   "execution_count": 1,
   "id": "e0956f4c-8bb9-4b43-bb19-2ded6526d5fd",
   "metadata": {},
   "outputs": [],
   "source": [
    "import pandas as pd\n",
    "import psycopg2"
   ]
  },
  {
   "cell_type": "code",
   "execution_count": 2,
   "id": "cea0629d-f937-410c-b8d7-9ef774fc98e5",
   "metadata": {},
   "outputs": [],
   "source": [
    "def create_database():\n",
    "    \n",
    "    conn = psycopg2.connect(\"host = localhost dbname = postgres user = postgres password = xxxx\")\n",
    "    conn.set_session(autocommit = True)\n",
    "    cur = conn.cursor()\n",
    "    \n",
    "    cur.execute(\"DROP DATABASE IF EXISTS accounts\")\n",
    "    cur.execute(\"CREATE DATABASE accounts\")\n",
    "\n",
    "    conn.close()\n",
    "    \n",
    "    conn = psycopg2.connect(\"host = localhost dbname = accounts user = postgres password = xxxx\")\n",
    "    cur = conn.cursor()\n",
    "\n",
    "    return cur, conn"
   ]
  },
  {
   "cell_type": "code",
   "execution_count": 3,
   "id": "8cc3db14-7920-4a6b-93bd-1c9f287955dd",
   "metadata": {},
   "outputs": [],
   "source": [
    "def drop_tables(cur, conn):\n",
    "    for query in drop_tables_queries:\n",
    "        cur.execute(query)\n",
    "        conn.commit()"
   ]
  },
  {
   "cell_type": "code",
   "execution_count": 4,
   "id": "b768dd72-6e50-4d1c-a1f5-3bca3219f641",
   "metadata": {},
   "outputs": [],
   "source": [
    "def createdatabase(cur, conn):\n",
    "    for query in create_table_queries:\n",
    "        cur.execute(query)\n",
    "        conn.commit()"
   ]
  },
  {
   "cell_type": "code",
   "execution_count": 5,
   "id": "72006d92-38c6-48dc-90fb-da4fbd5e63f7",
   "metadata": {},
   "outputs": [],
   "source": [
    "cur, conn = create_database()"
   ]
  },
  {
   "cell_type": "code",
   "execution_count": 6,
   "id": "e62e37ce-15e7-48c3-9aaa-2af32e255090",
   "metadata": {},
   "outputs": [],
   "source": [
    "AccountsCountry = pd.read_csv(\"D:/Wealth-AccountsCountry.csv\")"
   ]
  },
  {
   "cell_type": "code",
   "execution_count": 7,
   "id": "b350bca8-5679-4abf-840a-b28d758ecd69",
   "metadata": {},
   "outputs": [
    {
     "data": {
      "text/html": [
       "<div>\n",
       "<style scoped>\n",
       "    .dataframe tbody tr th:only-of-type {\n",
       "        vertical-align: middle;\n",
       "    }\n",
       "\n",
       "    .dataframe tbody tr th {\n",
       "        vertical-align: top;\n",
       "    }\n",
       "\n",
       "    .dataframe thead th {\n",
       "        text-align: right;\n",
       "    }\n",
       "</style>\n",
       "<table border=\"1\" class=\"dataframe\">\n",
       "  <thead>\n",
       "    <tr style=\"text-align: right;\">\n",
       "      <th></th>\n",
       "      <th>Code</th>\n",
       "      <th>Long Name</th>\n",
       "      <th>Income Group</th>\n",
       "      <th>Region</th>\n",
       "      <th>Lending category</th>\n",
       "      <th>Other groups</th>\n",
       "      <th>Currency Unit</th>\n",
       "      <th>Latest population census</th>\n",
       "      <th>Latest household survey</th>\n",
       "      <th>Special Notes</th>\n",
       "      <th>...</th>\n",
       "      <th>Source of most recent Income and expenditure data</th>\n",
       "      <th>Vital registration complete</th>\n",
       "      <th>Latest agricultural census</th>\n",
       "      <th>Latest industrial data</th>\n",
       "      <th>Latest trade data</th>\n",
       "      <th>Latest water withdrawal data</th>\n",
       "      <th>2-alpha code</th>\n",
       "      <th>WB-2 code</th>\n",
       "      <th>Table Name</th>\n",
       "      <th>Short Name</th>\n",
       "    </tr>\n",
       "  </thead>\n",
       "  <tbody>\n",
       "    <tr>\n",
       "      <th>0</th>\n",
       "      <td>ALB</td>\n",
       "      <td>Republic of Albania</td>\n",
       "      <td>Upper middle income</td>\n",
       "      <td>Europe &amp; Central Asia</td>\n",
       "      <td>IBRD</td>\n",
       "      <td>NaN</td>\n",
       "      <td>Albanian lek</td>\n",
       "      <td>2020 (expected)</td>\n",
       "      <td>Demographic and Health Survey, 2017/18</td>\n",
       "      <td>NaN</td>\n",
       "      <td>...</td>\n",
       "      <td>Living Standards Measurement Study Survey (LSM...</td>\n",
       "      <td>Yes</td>\n",
       "      <td>2012</td>\n",
       "      <td>2013.0</td>\n",
       "      <td>2018.0</td>\n",
       "      <td>2006.0</td>\n",
       "      <td>AL</td>\n",
       "      <td>AL</td>\n",
       "      <td>Albania</td>\n",
       "      <td>Albania</td>\n",
       "    </tr>\n",
       "    <tr>\n",
       "      <th>1</th>\n",
       "      <td>ARG</td>\n",
       "      <td>Argentine Republic</td>\n",
       "      <td>Upper middle income</td>\n",
       "      <td>Latin America &amp; Caribbean</td>\n",
       "      <td>IBRD</td>\n",
       "      <td>NaN</td>\n",
       "      <td>Argentine peso</td>\n",
       "      <td>2020 (expected)</td>\n",
       "      <td>Multiple Indicator Cluster Survey, 2019/20</td>\n",
       "      <td>NaN</td>\n",
       "      <td>...</td>\n",
       "      <td>Integrated household survey (IHS), 2016</td>\n",
       "      <td>Yes</td>\n",
       "      <td>2008</td>\n",
       "      <td>2002.0</td>\n",
       "      <td>2018.0</td>\n",
       "      <td>2011.0</td>\n",
       "      <td>AR</td>\n",
       "      <td>AR</td>\n",
       "      <td>Argentina</td>\n",
       "      <td>Argentina</td>\n",
       "    </tr>\n",
       "    <tr>\n",
       "      <th>2</th>\n",
       "      <td>ARM</td>\n",
       "      <td>Republic of Armenia</td>\n",
       "      <td>Upper middle income</td>\n",
       "      <td>Europe &amp; Central Asia</td>\n",
       "      <td>IBRD</td>\n",
       "      <td>NaN</td>\n",
       "      <td>Armenian dram</td>\n",
       "      <td>2020 (expected)</td>\n",
       "      <td>Demographic and Health Survey, 2015/16</td>\n",
       "      <td>NaN</td>\n",
       "      <td>...</td>\n",
       "      <td>Integrated household survey (IHS), 2016</td>\n",
       "      <td>Yes</td>\n",
       "      <td>2014</td>\n",
       "      <td>NaN</td>\n",
       "      <td>2018.0</td>\n",
       "      <td>2012.0</td>\n",
       "      <td>AM</td>\n",
       "      <td>AM</td>\n",
       "      <td>Armenia</td>\n",
       "      <td>Armenia</td>\n",
       "    </tr>\n",
       "  </tbody>\n",
       "</table>\n",
       "<p>3 rows × 31 columns</p>\n",
       "</div>"
      ],
      "text/plain": [
       "  Code            Long Name         Income Group                     Region  \\\n",
       "0  ALB  Republic of Albania  Upper middle income      Europe & Central Asia   \n",
       "1  ARG   Argentine Republic  Upper middle income  Latin America & Caribbean   \n",
       "2  ARM  Republic of Armenia  Upper middle income      Europe & Central Asia   \n",
       "\n",
       "  Lending category Other groups   Currency Unit Latest population census  \\\n",
       "0             IBRD          NaN    Albanian lek          2020 (expected)   \n",
       "1             IBRD          NaN  Argentine peso          2020 (expected)   \n",
       "2             IBRD          NaN   Armenian dram          2020 (expected)   \n",
       "\n",
       "                      Latest household survey Special Notes  ...  \\\n",
       "0      Demographic and Health Survey, 2017/18           NaN  ...   \n",
       "1  Multiple Indicator Cluster Survey, 2019/20           NaN  ...   \n",
       "2      Demographic and Health Survey, 2015/16           NaN  ...   \n",
       "\n",
       "   Source of most recent Income and expenditure data  \\\n",
       "0  Living Standards Measurement Study Survey (LSM...   \n",
       "1            Integrated household survey (IHS), 2016   \n",
       "2            Integrated household survey (IHS), 2016   \n",
       "\n",
       "   Vital registration complete Latest agricultural census  \\\n",
       "0                          Yes                       2012   \n",
       "1                          Yes                       2008   \n",
       "2                          Yes                       2014   \n",
       "\n",
       "  Latest industrial data Latest trade data Latest water withdrawal data  \\\n",
       "0                 2013.0            2018.0                       2006.0   \n",
       "1                 2002.0            2018.0                       2011.0   \n",
       "2                    NaN            2018.0                       2012.0   \n",
       "\n",
       "  2-alpha code WB-2 code Table Name Short Name  \n",
       "0           AL        AL    Albania    Albania  \n",
       "1           AR        AR  Argentina  Argentina  \n",
       "2           AM        AM    Armenia    Armenia  \n",
       "\n",
       "[3 rows x 31 columns]"
      ]
     },
     "execution_count": 7,
     "metadata": {},
     "output_type": "execute_result"
    }
   ],
   "source": [
    "AccountsCountry.head(3)"
   ]
  },
  {
   "cell_type": "code",
   "execution_count": 8,
   "id": "67dc1d7c-490b-4598-bb12-340ce4945fc9",
   "metadata": {},
   "outputs": [],
   "source": [
    "AccountsCountry_clean = AccountsCountry[['Code', 'Short Name', 'Table Name', 'Long Name', 'Currency Unit']]"
   ]
  },
  {
   "cell_type": "code",
   "execution_count": 9,
   "id": "ff3bf070-ed22-4226-ae03-fe2edbce7145",
   "metadata": {},
   "outputs": [
    {
     "data": {
      "text/html": [
       "<div>\n",
       "<style scoped>\n",
       "    .dataframe tbody tr th:only-of-type {\n",
       "        vertical-align: middle;\n",
       "    }\n",
       "\n",
       "    .dataframe tbody tr th {\n",
       "        vertical-align: top;\n",
       "    }\n",
       "\n",
       "    .dataframe thead th {\n",
       "        text-align: right;\n",
       "    }\n",
       "</style>\n",
       "<table border=\"1\" class=\"dataframe\">\n",
       "  <thead>\n",
       "    <tr style=\"text-align: right;\">\n",
       "      <th></th>\n",
       "      <th>Code</th>\n",
       "      <th>Short Name</th>\n",
       "      <th>Table Name</th>\n",
       "      <th>Long Name</th>\n",
       "      <th>Currency Unit</th>\n",
       "    </tr>\n",
       "  </thead>\n",
       "  <tbody>\n",
       "    <tr>\n",
       "      <th>0</th>\n",
       "      <td>ALB</td>\n",
       "      <td>Albania</td>\n",
       "      <td>Albania</td>\n",
       "      <td>Republic of Albania</td>\n",
       "      <td>Albanian lek</td>\n",
       "    </tr>\n",
       "    <tr>\n",
       "      <th>1</th>\n",
       "      <td>ARG</td>\n",
       "      <td>Argentina</td>\n",
       "      <td>Argentina</td>\n",
       "      <td>Argentine Republic</td>\n",
       "      <td>Argentine peso</td>\n",
       "    </tr>\n",
       "    <tr>\n",
       "      <th>2</th>\n",
       "      <td>ARM</td>\n",
       "      <td>Armenia</td>\n",
       "      <td>Armenia</td>\n",
       "      <td>Republic of Armenia</td>\n",
       "      <td>Armenian dram</td>\n",
       "    </tr>\n",
       "  </tbody>\n",
       "</table>\n",
       "</div>"
      ],
      "text/plain": [
       "  Code Short Name Table Name            Long Name   Currency Unit\n",
       "0  ALB    Albania    Albania  Republic of Albania    Albanian lek\n",
       "1  ARG  Argentina  Argentina   Argentine Republic  Argentine peso\n",
       "2  ARM    Armenia    Armenia  Republic of Armenia   Armenian dram"
      ]
     },
     "execution_count": 9,
     "metadata": {},
     "output_type": "execute_result"
    }
   ],
   "source": [
    "AccountsCountry_clean.head(3)"
   ]
  },
  {
   "cell_type": "code",
   "execution_count": 10,
   "id": "8cb6a701-88c1-4c32-9e94-cbba5a3514e9",
   "metadata": {},
   "outputs": [],
   "source": [
    "AccountsData = pd.read_csv(\"D:/Wealth-AccountData.csv\")"
   ]
  },
  {
   "cell_type": "code",
   "execution_count": 11,
   "id": "94b5136d-c12f-4c49-be18-9161568309f7",
   "metadata": {},
   "outputs": [],
   "source": [
    "AccountsData_clean = AccountsData[['Country Name', 'Country Code', 'Series Name', 'Series Code', '1995 [YR1995]', '2000 [YR2000]', '2005 [YR2005]', '2010 [YR2010]', '2014 [YR2014]']]"
   ]
  },
  {
   "cell_type": "code",
   "execution_count": 12,
   "id": "07d525d3-554c-43d0-a842-791f5b22b462",
   "metadata": {},
   "outputs": [
    {
     "data": {
      "text/html": [
       "<div>\n",
       "<style scoped>\n",
       "    .dataframe tbody tr th:only-of-type {\n",
       "        vertical-align: middle;\n",
       "    }\n",
       "\n",
       "    .dataframe tbody tr th {\n",
       "        vertical-align: top;\n",
       "    }\n",
       "\n",
       "    .dataframe thead th {\n",
       "        text-align: right;\n",
       "    }\n",
       "</style>\n",
       "<table border=\"1\" class=\"dataframe\">\n",
       "  <thead>\n",
       "    <tr style=\"text-align: right;\">\n",
       "      <th></th>\n",
       "      <th>Country Name</th>\n",
       "      <th>Country Code</th>\n",
       "      <th>Series Name</th>\n",
       "      <th>Series Code</th>\n",
       "      <th>1995 [YR1995]</th>\n",
       "      <th>2000 [YR2000]</th>\n",
       "      <th>2005 [YR2005]</th>\n",
       "      <th>2010 [YR2010]</th>\n",
       "      <th>2014 [YR2014]</th>\n",
       "    </tr>\n",
       "  </thead>\n",
       "  <tbody>\n",
       "    <tr>\n",
       "      <th>0</th>\n",
       "      <td>Albania</td>\n",
       "      <td>ALB</td>\n",
       "      <td>Human capital (constant 2018 US$)</td>\n",
       "      <td>NW.HCA.TO</td>\n",
       "      <td>4.490000e+10</td>\n",
       "      <td>4.360000e+10</td>\n",
       "      <td>5.440000e+10</td>\n",
       "      <td>6.810000e+10</td>\n",
       "      <td>7.250000e+10</td>\n",
       "    </tr>\n",
       "    <tr>\n",
       "      <th>1</th>\n",
       "      <td>Albania</td>\n",
       "      <td>ALB</td>\n",
       "      <td>Human capital per capita (constant 2018 US$)</td>\n",
       "      <td>NW.HCA.PC</td>\n",
       "      <td>1.407300e+04</td>\n",
       "      <td>1.411800e+04</td>\n",
       "      <td>1.807200e+04</td>\n",
       "      <td>2.336300e+04</td>\n",
       "      <td>2.509000e+04</td>\n",
       "    </tr>\n",
       "    <tr>\n",
       "      <th>2</th>\n",
       "      <td>Albania</td>\n",
       "      <td>ALB</td>\n",
       "      <td>Human capital per capita, employed female (con...</td>\n",
       "      <td>NW.HCA.FEMP.PC</td>\n",
       "      <td>3.469000e+03</td>\n",
       "      <td>3.424000e+03</td>\n",
       "      <td>2.222000e+03</td>\n",
       "      <td>2.889000e+03</td>\n",
       "      <td>2.957000e+03</td>\n",
       "    </tr>\n",
       "  </tbody>\n",
       "</table>\n",
       "</div>"
      ],
      "text/plain": [
       "  Country Name Country Code  \\\n",
       "0      Albania          ALB   \n",
       "1      Albania          ALB   \n",
       "2      Albania          ALB   \n",
       "\n",
       "                                         Series Name     Series Code  \\\n",
       "0                  Human capital (constant 2018 US$)       NW.HCA.TO   \n",
       "1       Human capital per capita (constant 2018 US$)       NW.HCA.PC   \n",
       "2  Human capital per capita, employed female (con...  NW.HCA.FEMP.PC   \n",
       "\n",
       "   1995 [YR1995]  2000 [YR2000]  2005 [YR2005]  2010 [YR2010]  2014 [YR2014]  \n",
       "0   4.490000e+10   4.360000e+10   5.440000e+10   6.810000e+10   7.250000e+10  \n",
       "1   1.407300e+04   1.411800e+04   1.807200e+04   2.336300e+04   2.509000e+04  \n",
       "2   3.469000e+03   3.424000e+03   2.222000e+03   2.889000e+03   2.957000e+03  "
      ]
     },
     "execution_count": 12,
     "metadata": {},
     "output_type": "execute_result"
    }
   ],
   "source": [
    "AccountsData_clean.head(3)"
   ]
  },
  {
   "cell_type": "code",
   "execution_count": 13,
   "id": "6c2af6f1-3c94-40b9-b17d-79fbcddd327e",
   "metadata": {},
   "outputs": [],
   "source": [
    "AccountsSeries = pd.read_csv(\"D:/Wealth-AccountSeries.csv\")"
   ]
  },
  {
   "cell_type": "code",
   "execution_count": 14,
   "id": "6573da0b-5f32-4b5f-bb44-ec4971500d53",
   "metadata": {},
   "outputs": [
    {
     "data": {
      "text/html": [
       "<div>\n",
       "<style scoped>\n",
       "    .dataframe tbody tr th:only-of-type {\n",
       "        vertical-align: middle;\n",
       "    }\n",
       "\n",
       "    .dataframe tbody tr th {\n",
       "        vertical-align: top;\n",
       "    }\n",
       "\n",
       "    .dataframe thead th {\n",
       "        text-align: right;\n",
       "    }\n",
       "</style>\n",
       "<table border=\"1\" class=\"dataframe\">\n",
       "  <thead>\n",
       "    <tr style=\"text-align: right;\">\n",
       "      <th></th>\n",
       "      <th>Code</th>\n",
       "      <th>Indicator Name</th>\n",
       "      <th>Long definition</th>\n",
       "      <th>Source</th>\n",
       "      <th>Topic</th>\n",
       "      <th>Unit of measure</th>\n",
       "      <th>Periodicity</th>\n",
       "      <th>Reference period</th>\n",
       "      <th>Statistical concept and methodology</th>\n",
       "      <th>Previous Indicator Code</th>\n",
       "      <th>Previous Indicator Name</th>\n",
       "    </tr>\n",
       "  </thead>\n",
       "  <tbody>\n",
       "    <tr>\n",
       "      <th>0</th>\n",
       "      <td>NW.HCA.TO</td>\n",
       "      <td>Human capital (constant 2018 US$)</td>\n",
       "      <td>Human capital is computed as the present value...</td>\n",
       "      <td>World Bank. 2021. The Changing Wealth of Natio...</td>\n",
       "      <td>Human capital</td>\n",
       "      <td>Constant 2018 US$</td>\n",
       "      <td>Annual</td>\n",
       "      <td>1995-2018</td>\n",
       "      <td>Total wealth is calculated by summing up estim...</td>\n",
       "      <td>NaN</td>\n",
       "      <td>NaN</td>\n",
       "    </tr>\n",
       "    <tr>\n",
       "      <th>1</th>\n",
       "      <td>NW.HCA.PC</td>\n",
       "      <td>Human capital per capita (constant 2018 US$)</td>\n",
       "      <td>Human capital is computed as the present value...</td>\n",
       "      <td>World Bank. 2021. The Changing Wealth of Natio...</td>\n",
       "      <td>Human capital</td>\n",
       "      <td>Constant 2018 US$</td>\n",
       "      <td>Annual</td>\n",
       "      <td>1995-2018</td>\n",
       "      <td>Total wealth is calculated by summing up estim...</td>\n",
       "      <td>NaN</td>\n",
       "      <td>NaN</td>\n",
       "    </tr>\n",
       "    <tr>\n",
       "      <th>2</th>\n",
       "      <td>NW.HCA.FEMP.PC</td>\n",
       "      <td>Human capital per capita, employed female (con...</td>\n",
       "      <td>Human capital is computed as the present value...</td>\n",
       "      <td>World Bank. 2021. The Changing Wealth of Natio...</td>\n",
       "      <td>Human capital</td>\n",
       "      <td>Constant 2018 US$</td>\n",
       "      <td>Annual</td>\n",
       "      <td>1995-2018</td>\n",
       "      <td>Total wealth is calculated by summing up estim...</td>\n",
       "      <td>NaN</td>\n",
       "      <td>NaN</td>\n",
       "    </tr>\n",
       "  </tbody>\n",
       "</table>\n",
       "</div>"
      ],
      "text/plain": [
       "             Code                                     Indicator Name  \\\n",
       "0       NW.HCA.TO                  Human capital (constant 2018 US$)   \n",
       "1       NW.HCA.PC       Human capital per capita (constant 2018 US$)   \n",
       "2  NW.HCA.FEMP.PC  Human capital per capita, employed female (con...   \n",
       "\n",
       "                                     Long definition  \\\n",
       "0  Human capital is computed as the present value...   \n",
       "1  Human capital is computed as the present value...   \n",
       "2  Human capital is computed as the present value...   \n",
       "\n",
       "                                              Source          Topic  \\\n",
       "0  World Bank. 2021. The Changing Wealth of Natio...  Human capital   \n",
       "1  World Bank. 2021. The Changing Wealth of Natio...  Human capital   \n",
       "2  World Bank. 2021. The Changing Wealth of Natio...  Human capital   \n",
       "\n",
       "     Unit of measure Periodicity Reference period  \\\n",
       "0  Constant 2018 US$      Annual        1995-2018   \n",
       "1  Constant 2018 US$      Annual        1995-2018   \n",
       "2  Constant 2018 US$      Annual        1995-2018   \n",
       "\n",
       "                 Statistical concept and methodology Previous Indicator Code  \\\n",
       "0  Total wealth is calculated by summing up estim...                     NaN   \n",
       "1  Total wealth is calculated by summing up estim...                     NaN   \n",
       "2  Total wealth is calculated by summing up estim...                     NaN   \n",
       "\n",
       "  Previous Indicator Name  \n",
       "0                     NaN  \n",
       "1                     NaN  \n",
       "2                     NaN  "
      ]
     },
     "execution_count": 14,
     "metadata": {},
     "output_type": "execute_result"
    }
   ],
   "source": [
    "AccountsSeries.head(3)"
   ]
  },
  {
   "cell_type": "code",
   "execution_count": 15,
   "id": "682d3c37-2481-401d-8c78-9bd3483fdcd8",
   "metadata": {},
   "outputs": [],
   "source": [
    "AccountsSeries_clean = AccountsSeries[['Code', 'Topic', 'Indicator Name', 'Long definition']]"
   ]
  },
  {
   "cell_type": "code",
   "execution_count": 16,
   "id": "b68d2e0d-5915-4505-aead-d160bbc8be1d",
   "metadata": {},
   "outputs": [
    {
     "data": {
      "text/html": [
       "<div>\n",
       "<style scoped>\n",
       "    .dataframe tbody tr th:only-of-type {\n",
       "        vertical-align: middle;\n",
       "    }\n",
       "\n",
       "    .dataframe tbody tr th {\n",
       "        vertical-align: top;\n",
       "    }\n",
       "\n",
       "    .dataframe thead th {\n",
       "        text-align: right;\n",
       "    }\n",
       "</style>\n",
       "<table border=\"1\" class=\"dataframe\">\n",
       "  <thead>\n",
       "    <tr style=\"text-align: right;\">\n",
       "      <th></th>\n",
       "      <th>Code</th>\n",
       "      <th>Topic</th>\n",
       "      <th>Indicator Name</th>\n",
       "      <th>Long definition</th>\n",
       "    </tr>\n",
       "  </thead>\n",
       "  <tbody>\n",
       "    <tr>\n",
       "      <th>0</th>\n",
       "      <td>NW.HCA.TO</td>\n",
       "      <td>Human capital</td>\n",
       "      <td>Human capital (constant 2018 US$)</td>\n",
       "      <td>Human capital is computed as the present value...</td>\n",
       "    </tr>\n",
       "    <tr>\n",
       "      <th>1</th>\n",
       "      <td>NW.HCA.PC</td>\n",
       "      <td>Human capital</td>\n",
       "      <td>Human capital per capita (constant 2018 US$)</td>\n",
       "      <td>Human capital is computed as the present value...</td>\n",
       "    </tr>\n",
       "    <tr>\n",
       "      <th>2</th>\n",
       "      <td>NW.HCA.FEMP.PC</td>\n",
       "      <td>Human capital</td>\n",
       "      <td>Human capital per capita, employed female (con...</td>\n",
       "      <td>Human capital is computed as the present value...</td>\n",
       "    </tr>\n",
       "  </tbody>\n",
       "</table>\n",
       "</div>"
      ],
      "text/plain": [
       "             Code          Topic  \\\n",
       "0       NW.HCA.TO  Human capital   \n",
       "1       NW.HCA.PC  Human capital   \n",
       "2  NW.HCA.FEMP.PC  Human capital   \n",
       "\n",
       "                                      Indicator Name  \\\n",
       "0                  Human capital (constant 2018 US$)   \n",
       "1       Human capital per capita (constant 2018 US$)   \n",
       "2  Human capital per capita, employed female (con...   \n",
       "\n",
       "                                     Long definition  \n",
       "0  Human capital is computed as the present value...  \n",
       "1  Human capital is computed as the present value...  \n",
       "2  Human capital is computed as the present value...  "
      ]
     },
     "execution_count": 16,
     "metadata": {},
     "output_type": "execute_result"
    }
   ],
   "source": [
    "AccountsSeries_clean.head(3)"
   ]
  },
  {
   "cell_type": "code",
   "execution_count": 17,
   "id": "c37cc89a-45bb-4c57-b841-dc13f0b1483f",
   "metadata": {},
   "outputs": [],
   "source": [
    "accounts_country_table_create = (\"\"\"CREATE TABLE IF NOT EXISTS accounts_country(\n",
    "Code VARCHAR,\n",
    "Short_Name VARCHAR,\n",
    "Table_Name VARCHAR,\n",
    "Long_Name VARCHAR,\n",
    "Currency_Unit VARCHAR\n",
    ")\"\"\")"
   ]
  },
  {
   "cell_type": "code",
   "execution_count": 18,
   "id": "d5d37d90-6f53-4441-9123-e80bac6806d6",
   "metadata": {},
   "outputs": [],
   "source": [
    "cur.execute(accounts_country_table_create)\n",
    "conn.commit()"
   ]
  },
  {
   "cell_type": "code",
   "execution_count": 19,
   "id": "13b95790-23e0-4f64-933f-d88dbb412e07",
   "metadata": {},
   "outputs": [],
   "source": [
    "accounts_data_table_create = (\"\"\"CREATE TABLE IF NOT EXISTS accounts_data(\n",
    "Country_Name VARCHAR,\n",
    "Country_Code VARCHAR,\n",
    "Series_Name VARCHAR,\n",
    "Series_Code VARCHAR,\n",
    "Year_1995 NUMERIC,\n",
    "Year_2000 NUMERIC,\n",
    "Year_2005 NUMERIC,\n",
    "Year_2010 NUMERIC,\n",
    "Year_2014 NUMERIC\n",
    ")\"\"\")"
   ]
  },
  {
   "cell_type": "code",
   "execution_count": 20,
   "id": "2cec2f88-d8a4-445a-934c-177e055e1010",
   "metadata": {},
   "outputs": [],
   "source": [
    "cur.execute(accounts_data_table_create)\n",
    "conn.commit()"
   ]
  },
  {
   "cell_type": "code",
   "execution_count": 21,
   "id": "8b7583f8-e12d-4cb3-b5be-e2ae3154ee4c",
   "metadata": {},
   "outputs": [],
   "source": [
    "accounts_series_table_create = (\"\"\"CREATE TABLE IF NOT EXISTS accounts_series(\n",
    "Code VARCHAR,\n",
    "Topic VARCHAR,\n",
    "Indicator_Name VARCHAR,\n",
    "Long_definition VARCHAR\n",
    ")\"\"\")"
   ]
  },
  {
   "cell_type": "code",
   "execution_count": 22,
   "id": "8384f6a0-accf-49aa-a3d1-f30264656491",
   "metadata": {},
   "outputs": [],
   "source": [
    "cur.execute(accounts_series_table_create)\n",
    "conn.commit()"
   ]
  },
  {
   "cell_type": "code",
   "execution_count": 23,
   "id": "3dbdcffe-78dc-487b-bc33-719422615d97",
   "metadata": {},
   "outputs": [],
   "source": [
    "accounts_country_table_insert = (\"\"\"INSERT INTO accounts_country\n",
    "(\n",
    "Code,\n",
    "Short_Name,\n",
    "Table_Name,\n",
    "Long_Name,\n",
    "Currency_Unit\n",
    ")\n",
    "VALUES(%s, %s, %s, %s, %s)\n",
    "\"\"\")"
   ]
  },
  {
   "cell_type": "code",
   "execution_count": 24,
   "id": "231ed2ca-69d3-49bd-89c7-e576ba48d6de",
   "metadata": {},
   "outputs": [],
   "source": [
    "for i, row in AccountsCountry_clean.iterrows():\n",
    "    cur.execute(accounts_country_table_insert, list(row))"
   ]
  },
  {
   "cell_type": "code",
   "execution_count": 25,
   "id": "7f3ed610-12b6-45b6-abf6-933a1c12c36b",
   "metadata": {},
   "outputs": [],
   "source": [
    "conn.commit()"
   ]
  },
  {
   "cell_type": "code",
   "execution_count": 26,
   "id": "2550a21d-eb8c-47ff-a2b2-b4ff37bb5b3f",
   "metadata": {},
   "outputs": [],
   "source": [
    "accounts_data_table_insert = (\"\"\"INSERT INTO accounts_data\n",
    "(\n",
    "Country_Name,\n",
    "Country_Code,\n",
    "Series_Name,\n",
    "Series_Code,\n",
    "Year_1995,\n",
    "Year_2000,\n",
    "Year_2005,\n",
    "Year_2010,\n",
    "Year_2014\n",
    ")\n",
    "VALUES(%s, %s, %s, %s, %s, %s, %s, %s, %s)\n",
    "\"\"\")"
   ]
  },
  {
   "cell_type": "code",
   "execution_count": 27,
   "id": "49c7a18a-5c34-4e3d-9c5a-ce5b8b33a478",
   "metadata": {},
   "outputs": [],
   "source": [
    "for i, row in AccountsData_clean.iterrows():\n",
    "    cur.execute(accounts_data_table_insert, list(row))"
   ]
  },
  {
   "cell_type": "code",
   "execution_count": 28,
   "id": "ff6340c3-5e1a-4b97-a5a3-3bdf973e7bdc",
   "metadata": {},
   "outputs": [],
   "source": [
    "conn.commit()"
   ]
  },
  {
   "cell_type": "code",
   "execution_count": 29,
   "id": "a3847b81-dc60-464d-9ea4-48a330c4556c",
   "metadata": {},
   "outputs": [],
   "source": [
    "accounts_series_table_insert = (\"\"\"INSERT INTO accounts_series\n",
    "(\n",
    "Code,\n",
    "Topic,\n",
    "Indicator_Name,\n",
    "Long_definition\n",
    ")\n",
    "VALUES(%s, %s, %s, %s)\n",
    "\"\"\")"
   ]
  },
  {
   "cell_type": "code",
   "execution_count": 30,
   "id": "f1cf23a6-b393-49e4-9a5e-5827f3ed0bfc",
   "metadata": {},
   "outputs": [],
   "source": [
    "for i, row in AccountsSeries_clean.iterrows():\n",
    "    cur.execute(accounts_series_table_insert, list(row))"
   ]
  },
  {
   "cell_type": "code",
   "execution_count": 31,
   "id": "e5aa1baa-47f7-4a9a-a4cb-4c063bfc5c2b",
   "metadata": {},
   "outputs": [],
   "source": [
    "conn.commit()"
   ]
  },
  {
   "cell_type": "code",
   "execution_count": 32,
   "id": "fd350cc2-4251-4744-a148-9f1605fa9a2e",
   "metadata": {},
   "outputs": [],
   "source": [
    "cur.close()"
   ]
  },
  {
   "cell_type": "code",
   "execution_count": 33,
   "id": "2034d494-ce48-4993-bce7-eddb78e79594",
   "metadata": {},
   "outputs": [],
   "source": [
    "conn.close()"
   ]
  }
 ],
 "metadata": {
  "kernelspec": {
   "display_name": "Python 3 (ipykernel)",
   "language": "python",
   "name": "python3"
  },
  "language_info": {
   "codemirror_mode": {
    "name": "ipython",
    "version": 3
   },
   "file_extension": ".py",
   "mimetype": "text/x-python",
   "name": "python",
   "nbconvert_exporter": "python",
   "pygments_lexer": "ipython3",
   "version": "3.12.5"
  }
 },
 "nbformat": 4,
 "nbformat_minor": 5
}
